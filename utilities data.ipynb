{
 "cells": [
  {
   "cell_type": "code",
   "execution_count": 14,
   "id": "140a970c",
   "metadata": {},
   "outputs": [],
   "source": [
    "import pandas as pd\n",
    "#import pdftotree\n",
    "from docx import Document\n",
    "import matplotlib.pyplot as plt"
   ]
  },
  {
   "cell_type": "code",
   "execution_count": 15,
   "id": "428fdd2d",
   "metadata": {},
   "outputs": [],
   "source": [
    "#def extract_data_from_pdf(pdf_path):\n",
    "    # Parse the PDF and extract text\n",
    "  #  parsed_pdf = pdftotree.parse(pdf_path)\n",
    "    \n",
    "    # Extracted text\n",
    "  #  text_data = parsed_pdf\n",
    "    \n",
    "  #  return text_data\n",
    "#data = pdftotree.parse(\"C:/Users/charl/OneDrive - Worcester Polytechnic Institute (wpi.edu)/Desktop/utilities_data_tighe.pdf\", \n",
    "                      #html_path=None, model_type=None, model_path=None, visualize=False)\n",
    "    \n",
    "#pdf_path = \"C:/Users/charl/OneDrive - Worcester Polytechnic Institute (wpi.edu)/Desktop/utilities_data_tighe.pdf\"\n",
    "#extracted_text = extract_data_from_pdf(pdf_path)\n",
    "#print(extracted_text)"
   ]
  },
  {
   "cell_type": "code",
   "execution_count": 16,
   "id": "f65a27f5",
   "metadata": {},
   "outputs": [],
   "source": [
    "def extract_table_data_from_docx(docx_path, table_index=0):\n",
    "    document = Document(docx_path)\n",
    "    table = document.tables[table_index]\n",
    "\n",
    "    data = []\n",
    "    keys = None\n",
    "\n",
    "    for i, row in enumerate(table.rows):\n",
    "        text = [cell.text for cell in row.cells]\n",
    "        if i == 0:\n",
    "            keys = text\n",
    "            continue\n",
    "        row_data = dict(zip(keys, text))\n",
    "        data.append(row_data)\n",
    "\n",
    "    return data\n",
    "\n",
    "\n",
    "def create_dataframe(table_data):\n",
    "    df = pd.DataFrame(table_data)\n",
    "    return df\n",
    "\n"
   ]
  },
  {
   "cell_type": "code",
   "execution_count": 17,
   "id": "a7f72d66",
   "metadata": {},
   "outputs": [
    {
     "name": "stdout",
     "output_type": "stream",
     "text": [
      "  Unit num                  Unit Name Fuel/Chemical Quantity Used Unit of Mea  \\\n",
      "0        4         Founders Boiler #4   Natural Gas     4,201,137  cubic feet   \n",
      "1                                                                               \n",
      "2                                                                               \n",
      "3        7  Generator #1 Daniels Hall   Natural Gas        36,201  cubic feet   \n",
      "4                                                                               \n",
      "\n",
      "  Pollutant Emission Factor            Unit of Mea2  \\\n",
      "0       CO2         120,000  lbs CO2/106 cubic feet   \n",
      "1       CH4          2.2708  lbs CH4/106 cubic feet   \n",
      "2       N2O          0.2205  lbs N2O/106 cubic feet   \n",
      "3       CO2         120,020  lbs CO2/106 cubic feet   \n",
      "4       CH4          2.2708  lbs CH4/106 cubic feet   \n",
      "\n",
      "  Pounds of Pollutant Emitted Tons of Pollutant Emitted Warming Potential  \\\n",
      "0                     504,136                  252.0682                 1   \n",
      "1                          10                    0.0048                25   \n",
      "2                           1                    0.0005               298   \n",
      "3                       4,345                    2.1724                 1   \n",
      "4                           0                    0.0000                25   \n",
      "\n",
      "  Metric Tons of CO2e Emitted Short Tons of CO2e Emitted  \n",
      "0                      228.67                   252.0682  \n",
      "1                        0.11                     0.1192  \n",
      "2                        0.13                     0.1380  \n",
      "3                        1.97                     2.1724  \n",
      "4                        0.00                     0.0010  \n",
      "Index(['Unit num', 'Unit Name', 'Fuel/Chemical', 'Quantity Used',\n",
      "       'Unit of Mea', 'Pollutant', 'Emission Factor', 'Unit of Mea2',\n",
      "       'Pounds of Pollutant Emitted', 'Tons of Pollutant Emitted',\n",
      "       'Warming Potential', 'Metric Tons of CO2e Emitted',\n",
      "       'Short Tons of CO2e Emitted'],\n",
      "      dtype='object')\n"
     ]
    }
   ],
   "source": [
    "docx_path = \"C:/Users/charl/OneDrive - Worcester Polytechnic Institute (wpi.edu)/WPI_utilities_tighe.docx\"\n",
    "table_data = extract_table_data_from_docx(docx_path)\n",
    "\n",
    "# Convert the extracted table data into a Pandas DataFrame\n",
    "df = create_dataframe(table_data)\n",
    "\n",
    "# Now you can perform data analysis using Pandas\n",
    "print(df.head())  # Print the first few rows of the DataFrame\n",
    "print(df.columns)"
   ]
  },
  {
   "cell_type": "code",
   "execution_count": 18,
   "id": "f512f05a",
   "metadata": {},
   "outputs": [
    {
     "data": {
      "image/png": "[encoded data removed]",
      "text/plain": [
       "<Figure size 720x432 with 1 Axes>"
      ]
     },
     "metadata": {
      "needs_background": "light"
     },
     "output_type": "display_data"
    }
   ],
   "source": [
    "df1 = df.copy()\n",
    "df1.dropna(subset=[\"Fuel/Chemical\"])\n",
    "\n",
    "# Count the instances of each fuel/chemical\n",
    "fuel_counts = df1[\"Fuel/Chemical\"].value_counts()\n",
    "\n",
    "fuel_counts.plot(kind=\"bar\", figsize=(10, 6), color=\"skyblue\")\n",
    "\n",
    "# Customize the plot\n",
    "plt.title(\"Instances of Fuel/Chemical\")\n",
    "plt.xlabel(\"Fuel/Chemical\")\n",
    "plt.ylabel(\"Count\")\n",
    "\n",
    "# Show the plot\n",
    "plt.show()"
   ]
  },
  {
   "cell_type": "code",
   "execution_count": 19,
   "id": "9390e357",
   "metadata": {},
   "outputs": [
    {
     "data": {
      "image/png": "[encoded data removed]",
      "text/plain": [
       "<Figure size 720x432 with 1 Axes>"
      ]
     },
     "metadata": {
      "needs_background": "light"
     },
     "output_type": "display_data"
    }
   ],
   "source": [
    "df2 = df.copy()\n",
    "df2.dropna(subset=[\"Pollutant\"])\n",
    "\n",
    "# Count the instances of each pollutant\n",
    "pollutant_counts = df2[\"Pollutant\"].value_counts()\n",
    "\n",
    "# Create a bar plot\n",
    "pollutant_counts.plot(kind=\"bar\", figsize=(10, 6), color=\"lightgreen\")\n",
    "\n",
    "# Customize the plot\n",
    "plt.title(\"Instances of Pollutants\")\n",
    "plt.xlabel(\"Pollutant\")\n",
    "plt.ylabel(\"Count\")\n",
    "\n",
    "# Show the plot\n",
    "plt.show()"
   ]
  },
  {
   "cell_type": "code",
   "execution_count": 22,
   "id": "a77ab28a",
   "metadata": {},
   "outputs": [],
   "source": [
    "df3 = df.copy()\n",
    "df3.dropna(subset=[\"Pollutant\"])\n",
    "\n",
    "# Count the instances of each pollutant\n",
    "pollutant_counts = df3[\"Pollutant\"].value_counts()\n",
    "pollutant_counts = df[\"Pollutant\"].value_counts()\n",
    "\n",
    "# Consolidate duplicate entries for CO2\n",
    "pollutant_counts = pollutant_counts.groupby(level=0).sum()\n",
    "\n",
    "# Create a bar plot\n",
    "pollutant_counts.plot(kind=\"bar\", figsize=(10, 6), color=\"lightgreen\")\n",
    "\n",
    "# Customize the plot\n",
    "plt.title(\"Instances of Pollutants\")\n",
    "plt.xlabel(\"Pollutant\")\n",
    "plt.ylabel(\"Count\")\n",
    "\n",
    "# Show the plot\n",
    "plt.show()\n",
    "\n",
    "\n"
   ]
  },
  {
   "cell_type": "code",
   "execution_count": 23,
   "id": "cd1cc1be",
   "metadata": {},
   "outputs": [
    {
     "data": {
      "image/png": "[encoded data removed]",
      "text/plain": [
       "<Figure size 720x432 with 1 Axes>"
      ]
     },
     "metadata": {
      "needs_background": "light"
     },
     "output_type": "display_data"
    }
   ],
   "source": []
  },
  {
   "cell_type": "code",
   "execution_count": 27,
   "id": "5f1affe9",
   "metadata": {},
   "outputs": [
    {
     "name": "stdout",
     "output_type": "stream",
     "text": [
      "   Unit num                    Unit Name Fuel/Chemical Quantity Used  \\\n",
      "0         4           Founders Boiler #4   Natural Gas     4,201,137   \n",
      "1                                                                      \n",
      "2                                                                      \n",
      "3         7    Generator #1 Daniels Hall   Natural Gas        36,201   \n",
      "4                                                                      \n",
      "..      ...                          ...           ...           ...   \n",
      "80                                                                     \n",
      "81                                                                     \n",
      "82       26  Gateway Lattner Boilers (2)   Natural Gas     2,949,778   \n",
      "83                                                                     \n",
      "84                                                                     \n",
      "\n",
      "   Unit of Mea Pollutant Emission Factor            Unit of Mea2  \\\n",
      "0   cubic feet       CO2         120,000  lbs CO2/106 cubic feet   \n",
      "1                    CH4          2.2708  lbs CH4/106 cubic feet   \n",
      "2                    N2O          0.2205  lbs N2O/106 cubic feet   \n",
      "3   cubic feet       CO2         120,020  lbs CO2/106 cubic feet   \n",
      "4                    CH4          2.2708  lbs CH4/106 cubic feet   \n",
      "..         ...       ...             ...                     ...   \n",
      "80                   CH4          2.2708  lbs CH4/106 cubic feet   \n",
      "81                   N2O          0.2205  lbs N2O/106 cubic feet   \n",
      "82  cubic feet       CO2         120,020  lbs CO2/106 cubic feet   \n",
      "83                   CH4          2.2708  lbs CH4/106 cubic feet   \n",
      "84                   N2O          0.2205  lbs N2O/106 cubic feet   \n",
      "\n",
      "   Pounds of Pollutant Emitted Tons of Pollutant Emitted Warming Potential  \\\n",
      "0                      504,136                  252.0682                 1   \n",
      "1                           10                    0.0048                25   \n",
      "2                            1                    0.0005               298   \n",
      "3                        4,345                    2.1724                 1   \n",
      "4                            0                    0.0000                25   \n",
      "..                         ...                       ...               ...   \n",
      "80                          24                    0.0120                25   \n",
      "81                           2                    0.0012               298   \n",
      "82                     354,031                  177.0157                 1   \n",
      "83                           7                    0.0033                25   \n",
      "84                           1                    0.0003               298   \n",
      "\n",
      "   Metric Tons of CO2e Emitted Short Tons of CO2e Emitted  \n",
      "0                       228.67                   252.0682  \n",
      "1                         0.11                     0.1192  \n",
      "2                         0.13                     0.1380  \n",
      "3                         1.97                     2.1724  \n",
      "4                         0.00                     0.0010  \n",
      "..                         ...                        ...  \n",
      "80                        0.27                     0.2999  \n",
      "81                        0.31                     0.3471  \n",
      "82                      160.59                   177.0157  \n",
      "83                        0.08                     0.0837  \n",
      "84                        0.09                     0.0969  \n",
      "\n",
      "[85 rows x 13 columns]\n"
     ]
    }
   ],
   "source": [
    "df4 = df.copy()\n",
    "df4.dropna()\n",
    "\n",
    "print(df4)"
   ]
  },
  {
   "cell_type": "code",
   "execution_count": null,
   "id": "b783fb92",
   "metadata": {},
   "outputs": [],
   "source": []
  }
 ],
 "metadata": {
  "kernelspec": {
   "display_name": "Python 3 (ipykernel)",
   "language": "python",
   "name": "python3"
  },
  "language_info": {
   "codemirror_mode": {
    "name": "ipython",
    "version": 3
   },
   "file_extension": ".py",
   "mimetype": "text/x-python",
   "name": "python",
   "nbconvert_exporter": "python",
   "pygments_lexer": "ipython3",
   "version": "3.9.12"
  }
 },
 "nbformat": 4,
 "nbformat_minor": 5
}
